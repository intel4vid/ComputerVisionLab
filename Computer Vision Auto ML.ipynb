{
 "cells": [
  {
   "cell_type": "markdown",
   "metadata": {},
   "source": [
    "# ComputerVisionLab02 Intro\n",
    "\n",
    "The goal of this lab is to show the importance of visual datasets when building a machine learning model. Furthermore this lab will introduce you with analytical tools applied to extract information from visual datasets. \n",
    "\n",
    "<br><br>"
   ]
  },
  {
   "cell_type": "markdown",
   "metadata": {},
   "source": [
    "<img src=\"./images/tdsp-lifecycle.png\" width=\"500\">"
   ]
  },
  {
   "cell_type": "markdown",
   "metadata": {},
   "source": [
    "# Datasets "
   ]
  },
  {
   "cell_type": "markdown",
   "metadata": {},
   "source": [
    "### 1. [CIFAR-10/100](https://www.cs.toronto.edu/~kriz/cifar.html) dataset\n",
    "Dataset consists of 60000 32x32 colour images in 10 classes, with 6000 images per class. There are 50000 training images and 10000 test images. \n",
    "<img src=\"./images/CIFAR.png\" width=\"500\">\n",
    "\n",
    "### 2. [MNIST](http://yann.lecun.com/exdb/mnist/) Dataset\n",
    "The MNIST database has a training set of 60,000 examples, and a test set of 10,000 examples. \n",
    "<img src=\"./images/MNIST.png\" width=\"500\">\n",
    "\n",
    "### 3. IMDB-Wiki Dataset\n",
    "Dataset has 520k images - gender and age prediction.\n",
    "<img src=\"./images/IMDB.png\" width=\"500\">\n",
    "\n",
    "### 4. [ImageNet](http://www.image-net.org/challenges/LSVRC/) dataset\n",
    "Evaluation of object detection and image classification algorithms.\n",
    "<img src=\"./images/imagenet.jpeg\" width=\"500\">\n",
    "\n",
    "### 5. Places2 Database dataset\n",
    "Dateaset has more than 10 million images and over 400 scenes. It is used for scene classification and scene parsing.\n",
    "<img src=\"./images/Places.png\" width=\"500\">\n",
    "\n",
    "### 6. [COCO](http://cocodataset.org/#external) dataset\n",
    "A large-scale object detection, segmentation, and captioning dataset with several features including Object segmentation, Recognition in context, Superpixel stuff segmentation, 330K images (>200K labeled), 1.5 million object instances, 80 object categories, 91 stuff categories, 5 captions per image, 250,000 people with keypoints.\n",
    "<img src=\"./images/COCO.png\" width=\"500\">\n",
    "\n",
    "### 7. [Kaggle Datasets Collection](https://www.kaggle.com/datasets) \n",
    "Kaggle enables you to search among 36924 datasets. \n",
    "<img src=\"./images/KaggleData.png\" width=\"500\">"
   ]
  },
  {
   "cell_type": "markdown",
   "metadata": {},
   "source": [
    "<br><br><br>"
   ]
  },
  {
   "cell_type": "markdown",
   "metadata": {},
   "source": [
    "# Creating datasets and building ML models"
   ]
  },
  {
   "cell_type": "markdown",
   "metadata": {},
   "source": [
    "This is an example how image dataset was created within a cloud environment to detect objects in images. In this example GCP - [Google Cloud Platform Vision module](https://console.cloud.google.com/vision/datasets?project=tvdetection01) was used to upload, store, create, label, train, validate and export ML model to mobile, web or containerized platforms."
   ]
  },
  {
   "cell_type": "markdown",
   "metadata": {},
   "source": [
    "## 1. Create a Google account"
   ]
  },
  {
   "cell_type": "markdown",
   "metadata": {},
   "source": [
    "https://accounts.google.com/signup/v2/webcreateaccount?service=mail&continue=https%3A%2F%2Fmail.google.com%2Fmail%2F&flowName=GlifWebSignIn&flowEntry=SignUp\n",
    "\n",
    "\n",
    "<img src=\"./images/signup_google.png\" width=480>"
   ]
  },
  {
   "cell_type": "markdown",
   "metadata": {},
   "source": [
    "## 2. Google Cloud Services\n",
    "Sign up for free GCP services at https://cloud.google.com/.\n",
    "\n",
    "<img src=\"./images/signup_google_01.png\" width=480>\n",
    "<img src=\"./images/signup_google_02.png\" width=480>\n",
    "<img src=\"./images/signup_google_03.png\" width=480>\n",
    "<img src=\"./images/signup_google_04.png\" width=480>\n",
    "</br></br>\n",
    "\n",
    "Fill in the necessary info and activate the free trial\n",
    "<img src=\"./images/signup_googl_activate.png\" width=480>\n"
   ]
  },
  {
   "cell_type": "markdown",
   "metadata": {},
   "source": [
    "## 3. Vision GCP service\n",
    "Find and choose Vision in the main menu or type in *Vision* in a search.\n",
    "<img src=\"./images/vision_01.png\" width=480>"
   ]
  },
  {
   "cell_type": "markdown",
   "metadata": {},
   "source": [
    "## 4. Object Detection\n",
    "Choose the task or custom model.\n",
    "<img src=\"./images/vision_02.png\" width=480>"
   ]
  },
  {
   "cell_type": "markdown",
   "metadata": {},
   "source": [
    "## 5. Enable AutoML API\n",
    "Enable the autoML APIs and select the Dataset in the menu on the left.\n",
    "<img src=\"./images/vision_03.png\" width=480>"
   ]
  },
  {
   "cell_type": "markdown",
   "metadata": {},
   "source": [
    "## 6. Create Dataset\n",
    "Check the objective of the project.\n",
    "<img src=\"./images/vision_04.png\" width=480>"
   ]
  },
  {
   "cell_type": "markdown",
   "metadata": {},
   "source": [
    "## 7. Upload Images\n",
    "Upload images from your local computer and create cloud bucket where images will be stored. \n",
    "Suggestions for datasets:\n",
    "* Tomatoto detection https://www.kaggle.com/datasets/andrewmvd/tomato-detection?resource=download\n",
    "* Helmet detection https://www.kaggle.com/datasets/vodan37/yolo-helmethead\n",
    "\n",
    "<img src=\"./images/vision_05.png\" width=480>\n",
    "\n",
    "<img src=\"./images/vision_06.png\" width=480>\n",
    "\n",
    "<br>\n",
    "After selecting the bucket and continue button the images are being uploaded.\n",
    "\n",
    "<img src=\"./images/vision_07.png\" width=480>"
   ]
  },
  {
   "cell_type": "markdown",
   "metadata": {},
   "source": [
    "## 8. Image Labeling\n",
    "\n",
    "<img src=\"./images/vision_label.png\" width=480>\n",
    "<br>\n",
    "\n",
    "<img src=\"./images/vision_labeling.png\" width=480>\n",
    "\n",
    "<br>\n",
    "<br>\n",
    "Issues with labeling.\n",
    "\n",
    "<img src=\"./images/vision_issue.png\" width=480>"
   ]
  },
  {
   "cell_type": "markdown",
   "metadata": {},
   "source": [
    "## 9. Train ML model"
   ]
  },
  {
   "cell_type": "markdown",
   "metadata": {},
   "source": [
    "Start the training of the model.\n",
    "\n",
    "<img src=\"./images/train_01.png\" width=480>\n",
    "\n",
    "<br>\n",
    "\n",
    "<img src=\"./images/train_02.png\" width=480>"
   ]
  },
  {
   "cell_type": "markdown",
   "metadata": {},
   "source": [
    "## 10. Model results and discussion"
   ]
  }
 ],
 "metadata": {
  "kernelspec": {
   "display_name": "Python 3 (ipykernel)",
   "language": "python",
   "name": "python3"
  },
  "language_info": {
   "codemirror_mode": {
    "name": "ipython",
    "version": 3
   },
   "file_extension": ".py",
   "mimetype": "text/x-python",
   "name": "python",
   "nbconvert_exporter": "python",
   "pygments_lexer": "ipython3",
   "version": "3.9.7"
  }
 },
 "nbformat": 4,
 "nbformat_minor": 2
}
